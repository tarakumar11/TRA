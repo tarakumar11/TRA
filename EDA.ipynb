{
 "cells": [
  {
   "cell_type": "code",
   "execution_count": 1,
   "id": "1f937d77",
   "metadata": {},
   "outputs": [],
   "source": [
    "import pandas as pd\n",
    "import numpy as np\n",
    "import matplotlib.pyplot as plt\n",
    "import seaborn as sns\n",
    "\n"
   ]
  },
  {
   "cell_type": "code",
   "execution_count": 2,
   "id": "2c8552a0",
   "metadata": {},
   "outputs": [],
   "source": [
    "df = pd.read_csv(r\"aa_dataset-tickets-multi-lang-5-2-50-version.csv\") "
   ]
  },
  {
   "cell_type": "code",
   "execution_count": 3,
   "id": "383976e0",
   "metadata": {},
   "outputs": [
    {
     "name": "stdout",
     "output_type": "stream",
     "text": [
      "Dataset Overview:\n",
      "\n",
      "<class 'pandas.core.frame.DataFrame'>\n",
      "RangeIndex: 28587 entries, 0 to 28586\n",
      "Data columns (total 16 columns):\n",
      " #   Column    Non-Null Count  Dtype \n",
      "---  ------    --------------  ----- \n",
      " 0   subject   24749 non-null  object\n",
      " 1   body      28587 non-null  object\n",
      " 2   answer    28580 non-null  object\n",
      " 3   type      28587 non-null  object\n",
      " 4   queue     28587 non-null  object\n",
      " 5   priority  28587 non-null  object\n",
      " 6   language  28587 non-null  object\n",
      " 7   version   28587 non-null  int64 \n",
      " 8   tag_1     28587 non-null  object\n",
      " 9   tag_2     28574 non-null  object\n",
      " 10  tag_3     28451 non-null  object\n",
      " 11  tag_4     25529 non-null  object\n",
      " 12  tag_5     14545 non-null  object\n",
      " 13  tag_6     5874 non-null   object\n",
      " 14  tag_7     2040 non-null   object\n",
      " 15  tag_8     565 non-null    object\n",
      "dtypes: int64(1), object(15)\n",
      "memory usage: 3.5+ MB\n"
     ]
    },
    {
     "data": {
      "text/plain": [
       "None"
      ]
     },
     "metadata": {},
     "output_type": "display_data"
    }
   ],
   "source": [
    "print(\"Dataset Overview:\\n\")\n",
    "display(df.info())\n",
    "\n",
    "\n"
   ]
  },
  {
   "cell_type": "code",
   "execution_count": 4,
   "id": "1c79565c",
   "metadata": {},
   "outputs": [
    {
     "name": "stdout",
     "output_type": "stream",
     "text": [
      "Total number of rows: 28587\n"
     ]
    }
   ],
   "source": [
    "print(f\"Total number of rows: {df.shape[0]}\")"
   ]
  },
  {
   "cell_type": "code",
   "execution_count": 5,
   "id": "4d0d4318",
   "metadata": {},
   "outputs": [
    {
     "name": "stdout",
     "output_type": "stream",
     "text": [
      "\n",
      "Summary Statistics:\n",
      "\n"
     ]
    },
    {
     "data": {
      "text/html": [
       "<div>\n",
       "<style scoped>\n",
       "    .dataframe tbody tr th:only-of-type {\n",
       "        vertical-align: middle;\n",
       "    }\n",
       "\n",
       "    .dataframe tbody tr th {\n",
       "        vertical-align: top;\n",
       "    }\n",
       "\n",
       "    .dataframe thead th {\n",
       "        text-align: right;\n",
       "    }\n",
       "</style>\n",
       "<table border=\"1\" class=\"dataframe\">\n",
       "  <thead>\n",
       "    <tr style=\"text-align: right;\">\n",
       "      <th></th>\n",
       "      <th>version</th>\n",
       "    </tr>\n",
       "  </thead>\n",
       "  <tbody>\n",
       "    <tr>\n",
       "      <th>count</th>\n",
       "      <td>28587.000000</td>\n",
       "    </tr>\n",
       "    <tr>\n",
       "      <th>mean</th>\n",
       "      <td>278.382027</td>\n",
       "    </tr>\n",
       "    <tr>\n",
       "      <th>std</th>\n",
       "      <td>165.962935</td>\n",
       "    </tr>\n",
       "    <tr>\n",
       "      <th>min</th>\n",
       "      <td>51.000000</td>\n",
       "    </tr>\n",
       "    <tr>\n",
       "      <th>25%</th>\n",
       "      <td>52.000000</td>\n",
       "    </tr>\n",
       "    <tr>\n",
       "      <th>50%</th>\n",
       "      <td>400.000000</td>\n",
       "    </tr>\n",
       "    <tr>\n",
       "      <th>75%</th>\n",
       "      <td>400.000000</td>\n",
       "    </tr>\n",
       "    <tr>\n",
       "      <th>max</th>\n",
       "      <td>400.000000</td>\n",
       "    </tr>\n",
       "  </tbody>\n",
       "</table>\n",
       "</div>"
      ],
      "text/plain": [
       "            version\n",
       "count  28587.000000\n",
       "mean     278.382027\n",
       "std      165.962935\n",
       "min       51.000000\n",
       "25%       52.000000\n",
       "50%      400.000000\n",
       "75%      400.000000\n",
       "max      400.000000"
      ]
     },
     "metadata": {},
     "output_type": "display_data"
    }
   ],
   "source": [
    "print(\"\\nSummary Statistics:\\n\")\n",
    "display(df.describe())"
   ]
  },
  {
   "cell_type": "code",
   "execution_count": 6,
   "id": "0c54e478",
   "metadata": {},
   "outputs": [
    {
     "name": "stdout",
     "output_type": "stream",
     "text": [
      "\n",
      "Missing Values:\n",
      "\n"
     ]
    },
    {
     "data": {
      "text/plain": [
       "subject      3838\n",
       "body            0\n",
       "answer          7\n",
       "type            0\n",
       "queue           0\n",
       "priority        0\n",
       "language        0\n",
       "version         0\n",
       "tag_1           0\n",
       "tag_2          13\n",
       "tag_3         136\n",
       "tag_4        3058\n",
       "tag_5       14042\n",
       "tag_6       22713\n",
       "tag_7       26547\n",
       "tag_8       28022\n",
       "dtype: int64"
      ]
     },
     "metadata": {},
     "output_type": "display_data"
    }
   ],
   "source": [
    "print(\"\\nMissing Values:\\n\")\n",
    "display(df.isnull().sum())"
   ]
  },
  {
   "cell_type": "code",
   "execution_count": 7,
   "id": "449ff3bd",
   "metadata": {},
   "outputs": [
    {
     "data": {
      "image/png": "[encoded data removed]",
      "text/plain": [
       "<Figure size 1000x600 with 1 Axes>"
      ]
     },
     "metadata": {},
     "output_type": "display_data"
    }
   ],
   "source": [
    "plt.figure(figsize=(10,6))\n",
    "sns.heatmap(df.isnull(), cbar=False, cmap='viridis')\n",
    "plt.title(\"Missing Values Heatmap\")\n",
    "plt.show()"
   ]
  },
  {
   "cell_type": "code",
   "execution_count": 8,
   "id": "b2f10a18",
   "metadata": {},
   "outputs": [
    {
     "data": {
      "image/png": "[encoded data removed]",
      "text/plain": [
       "<Figure size 1200x800 with 1 Axes>"
      ]
     },
     "metadata": {},
     "output_type": "display_data"
    }
   ],
   "source": [
    "df.hist(figsize=(12,8), bins=30)\n",
    "plt.suptitle(\"Feature Distributions\")\n",
    "plt.show()"
   ]
  },
  {
   "cell_type": "code",
   "execution_count": 9,
   "id": "27f86c41",
   "metadata": {},
   "outputs": [
    {
     "data": {
      "image/png": "[encoded data removed]",
      "text/plain": [
       "<Figure size 250x250 with 2 Axes>"
      ]
     },
     "metadata": {},
     "output_type": "display_data"
    }
   ],
   "source": [
    "sns.pairplot(df)\n",
    "plt.show()"
   ]
  },
  {
   "cell_type": "code",
   "execution_count": 10,
   "id": "66216368",
   "metadata": {},
   "outputs": [
    {
     "name": "stdout",
     "output_type": "stream",
     "text": [
      "(28587, 16)\n",
      "                                             subject  \\\n",
      "0                    Wesentlicher Sicherheitsvorfall   \n",
      "1                                 Account Disruption   \n",
      "2  Query About Smart Home System Integration Feat...   \n",
      "3                  Inquiry Regarding Invoice Details   \n",
      "4  Question About Marketing Agency Software Compa...   \n",
      "\n",
      "                                                body  \\\n",
      "0  Sehr geehrtes Support-Team,\\n\\nich möchte eine...   \n",
      "1  Dear Customer Support Team,\\n\\nI am writing to...   \n",
      "2  Dear Customer Support Team,\\n\\nI hope this mes...   \n",
      "3  Dear Customer Support Team,\\n\\nI hope this mes...   \n",
      "4  Dear Support Team,\\n\\nI hope this message reac...   \n",
      "\n",
      "                                              answer      type  \\\n",
      "0  Vielen Dank für die Meldung des kritischen Sic...  Incident   \n",
      "1  Thank you for reaching out, <name>. We are awa...  Incident   \n",
      "2  Thank you for your inquiry. Our products suppo...   Request   \n",
      "3  We appreciate you reaching out with your billi...   Request   \n",
      "4  Thank you for your inquiry. Our product suppor...   Problem   \n",
      "\n",
      "                   queue priority language  version     tag_1       tag_2  \\\n",
      "0      Technical Support     high       de       51  Security      Outage   \n",
      "1      Technical Support     high       en       51   Account  Disruption   \n",
      "2  Returns and Exchanges   medium       en       51   Product     Feature   \n",
      "3   Billing and Payments      low       en       51   Billing     Payment   \n",
      "4    Sales and Pre-Sales   medium       en       51   Product     Feature   \n",
      "\n",
      "          tag_3          tag_4         tag_5 tag_6 tag_7 tag_8  \n",
      "0    Disruption    Data Breach           NaN   NaN   NaN   NaN  \n",
      "1        Outage             IT  Tech Support   NaN   NaN   NaN  \n",
      "2  Tech Support            NaN           NaN   NaN   NaN   NaN  \n",
      "3       Account  Documentation      Feedback   NaN   NaN   NaN  \n",
      "4      Feedback   Tech Support           NaN   NaN   NaN   NaN  \n"
     ]
    }
   ],
   "source": [
    "print(df.shape)  \n",
    "print(df.head())  "
   ]
  },
  {
   "cell_type": "code",
   "execution_count": 11,
   "id": "41ac448c",
   "metadata": {},
   "outputs": [
    {
     "name": "stdout",
     "output_type": "stream",
     "text": [
      "\n",
      "Value counts for subject:\n",
      "\n"
     ]
    },
    {
     "data": {
      "text/plain": [
       "subject\n",
       "Wesentlicher Sicherheitsvorfall                                                            1\n",
       "Detailed Integration of RapidMiner Data Analytics Tools                                    1\n",
       "Healthcare Provider System Security Incident Identified                                    1\n",
       "Unusual Decline in Brand Engagement Metrics Lately                                         1\n",
       "Assistance with Support                                                                    1\n",
       "                                                                                          ..\n",
       "Detaillierte Anweisungen für die Integration des Rode NT-USB Mini in die SaaS-Plattform    1\n",
       "Issues Identified in Hospital Data Security System                                         1\n",
       "Issue with the SaaS Platform                                                               1\n",
       "Security of Hospital IT Systems SAP ERP                                                    1\n",
       "Inquiry About Project Management Features                                                  1\n",
       "Name: count, Length: 24749, dtype: int64"
      ]
     },
     "metadata": {},
     "output_type": "display_data"
    },
    {
     "name": "stdout",
     "output_type": "stream",
     "text": [
      "\n",
      "Value counts for body:\n",
      "\n"
     ]
    },
    {
     "data": {
      "text/plain": [
       "body\n",
       "Sehr geehrtes Support-Team,\\n\\nich möchte einen gravierenden Sicherheitsvorfall melden, der gegenwärtig mehrere Komponenten unserer Infrastruktur betrifft. Betroffene Geräte umfassen Projektoren, Bildschirme und Speicherlösungen auf Cloud-Plattformen. Der Grund für die Annahme ist, dass der Vorfall eine potenzielle Datenverletzung im Zusammenhang mit einer Cyberattacke darstellt, was ein erhebliches Risiko für sensible Informationen und den laufenden Geschäftsbetrieb unserer Organisation bedeutet.\\n\\nUnsere initialen Untersuchungen haben ungewöhnliche Aktivitäten und Abweichungen bei den Geräten ergeben. Trotz der Umsetzung unserer standardisierten Behebungs- und Eindämmungsmaßnahmen konnte die Bedrohung bislang nicht vollständig eliminiert.    1\n",
       "Customer Support, facing persistent outages with digital tools, which are hindering our brand growth initiatives. It could be due to software incompatibility following recent updates. Despite attempting device reboots, checking network connections, and updating software, the issues have not been resolved. The support team has tried various troubleshooting methods, but the problem remains unresolved. We would greatly appreciate if you could look into this matter and provide a solution at your earliest convenience. Please let us know if there are any additional steps needed.                                                                                                                                                                                1\n",
       "Das Marketing-Team hat Schwierigkeiten bei der Synchronisierung von Projektdateien zwischen Asana und Notion. Das Problem scheint auf Kompatibilität der Softwareversionen zurückzuführen sein. Wir haben versucht, das Cache zu löschen und die Anwendungen neu zu installieren, aber das Problem behielt seinen Ursprung. Das Team ist derzeit in der Lage, wichtige Projektdateien zu öffnen, jedoch werden ihre Fortschritte dadurch behindert. Wir freuen uns, bald eine mögliche Lösung anzubieten.                                                                                                                                                                                                                                                                          1\n",
       "Ein Sicherheitsverstoß betroffene medizinische Daten wurde gemeldet. Verschiedene IT-Systeme und Produkte wurden beeinträchtigt, was auf Mängeln in den Git-Ansible-Konfigurationen zurückgeführt werden kann. Obwohl die Firewall-Sicherheit aktualisiert wurde, behält das Problem dennoch bestand.                                                                                                                                                                                                                                                                                                                                                                                                                                                                              1\n",
       "Request for integrating data analytics tools into existing platforms to enhance investment optimization and streamline workflows. Integration aims to provide valuable insights and improve overall performance. Appreciate your prompt attention to this matter and look forward to a solution soon. Please confirm if additional information is needed to proceed with the integration.                                                                                                                                                                                                                                                                                                                                                                                          1\n",
       "                                                                                                                                                                                                                                                                                                                                                                                                                                                                                                                                                                                                                                                                                                                                                                                  ..\n",
       "Dear Customer Support,<br><br>I am reporting a critical issue impacting the infrastructure of a healthcare provider. Recently, we have experienced substantial delays in data access and system instability across multiple devices and applications. The affected systems include RAID Controllers, Mac Mini, and Elasticsearch. This has disrupted the hospital's operations on a daily basis.<br><br>The root cause appears to be conflicts arising from recent software updates integrated across various devices and applications. Our team is seeking assistance to resolve this matter.                                                                                                                                                                                     1\n",
       "Sehr geehrter Kundenservice, ich möchte Ihre Aufmerksamkeit auf die unzureichende Performance unserer digitalen Marketingmaßnahmen lenken. Trotz unserer Bemühungen, die Inhalte zu aktualisieren und die Suchmaschinenoptimierung zu verbessern, bleiben die Resultate hinter den Erwartungen zurück. Wir vermuten, dass ineffektives Targeting oder veraltete Strategien die Ursache sein könnten. Bisher haben wir Maßnahmen wie Inhaltsaktualisierungen und SEO-Optimierungen umgesetzt, doch die gewünschten Resultate wurden nicht erzielt. Wir befürchten, dass unsere Marke ihr volles Potenzial nicht durch die aktuellen Marketingaktivitäten entfaltet und die angestrebte Interaktion ausbleibt. Daher bitten wir um Unterstützung bei der Ursachenanalyse.            1\n",
       "Wir möchten Sie darüber informieren, dass es möglicherweise unbefugten Zugriff auf Patientendaten bei einem Gesundheitsdienstleister gegeben hat. Erste Untersuchungen deuten darauf hin, dass veraltete Software-Sicherheitslücken die Ursache sein könnten. Unser Team hat sofortige Maßnahmen ergriffen, darunter das Zurücksetzen von Passwörtern und Systemscans auf Malware. Allerdings wurde die Quelle des Lecks noch nicht identifiziert. Wir versichern Ihnen, dass wir die Angelegenheit sehr ernst nehmen und intensiv daran arbeiten, das Problem zu beheben. Wir werden Sie auf dem Laufenden halten, sobald neue Informationen vorliegen. Bitte zögern Sie nicht, uns bei Fragen zu kontaktieren.                                                                   1\n",
       "A breach attempt has been detected targeting the healthcare data security system, which is likely due to malware or phishing. Upgrading security protocols has not been successful so far. Urgent assistance is needed to resolve the issue and prevent potential data leaks.                                                                                                                                                                                                                                                                                                                                                                                                                                                                                                      1\n",
       "Looking for detailed information on the project management SaaS features and customization options available on your platform. Specifically, I am interested in learning about the various tools and functionalities the platform offers, as well as the workflow automation and reporting capabilities. Additionally, I would like to know about the third-party app and service integrations. Thank you for your assistance, and I look forward to hearing back soon. Please let me know if there is any additional information you need.                                                                                                                                                                                                                                        1\n",
       "Name: count, Length: 28587, dtype: int64"
      ]
     },
     "metadata": {},
     "output_type": "display_data"
    },
    {
     "name": "stdout",
     "output_type": "stream",
     "text": [
      "\n",
      "Value counts for answer:\n",
      "\n"
     ]
    },
    {
     "data": {
      "text/plain": [
       "answer\n",
       "Vielen Dank für die Meldung des kritischen Sicherheitsvorfalls und die Bereitstellung der Übersicht über die betroffenen Geräte sowie der ergriffenen ersten Maßnahmen. Wir erkennen die Dringlichkeit und Schwere der Lage an und setzen alles daran, den Fall prioritär zu bearbeiten. Für eine umgehende Untersuchung benötigen wir zusätzliche Informationen: Bitte senden Sie uns spezifische Protokolle der betroffenen Projektoren, Bildschirme und Cloud-Speichersysteme, inklusive Zeitstempel verdächtiger Aktivitäten sowie ungewöhnlicher Fehlermeldungen. Falls möglich, fügen Sie auch eine Zusammenfassung der bereits durchgeführten Maßnahmen bei.                                    1\n",
       "We have received an email regarding the sudden drop in website visitors. To assist, could you please provide more details on the current algorithm fluctuations and analytics settings? We will review this information and contact you at a convenient time to discuss the next steps in problem resolution.                                                                                                                                                                                                                                                                                                                                                                                          1\n",
       "Forwarded your request for consideration by the development team. You will be kept updated on the progress of the user interface update.                                                                                                                                                                                                                                                                                                                                                                                                                                                                                                                                                               1\n",
       "Ich bestätige die Verbindungsschwerpunkte bei Ihrem Mesh-Netzwerk ausdrücklich. Um Ihnen weiter zu helfen, teilen Sie bitte die aktuelle Firmware-Version Ihres Mesh-Netzwerk-Geräts mit. Ich bin auch bereit, konkrete Verbindung Troubleshooting zu vereinbaren. Geben Sie mir bitte eine passende Zeit, um Sie anzurufen. Alternativ können Sie mich direkt kontaktieren, um mögliche Lösungen wie Firmware-Updates für Geräte <acc_num> zu besprechen.                                                                                                                                                                                                                                             1\n",
       "Ich untersuche derzeit das Asana-Synchronisationsproblem. Um Ihnen besser behilflich zu sein, könnten Sie bitte den genauen Fehlerhändler-Bericht mitteilen, der die aktuelle Softwareversion betrifft. Falls nötig, können Sie mich anrufen, um weitere Details zu besprechen. Sie können mich unter dem angegebenen Telefonnummer erreichen.                                                                                                                                                                                                                                                                                                                                                         1\n",
       "                                                                                                                                                                                                                                                                                                                                                                                                                                                                                                                                                                                                                                                                                                      ..\n",
       "<name>, danke, dass Sie uns bezüglich der schlechten Performance Ihrer digitalen Marketingkampagnen kontaktiert haben. Wir entschuldigen uns für die Unannehmlichkeiten und freuen uns, bei der Ursachenanalyse zu helfen. Um die Situation besser zu verstehen, könnten Sie uns bitte weitere Informationen zu Ihren aktuellen Targeting-Strategien, spezifischen Kennzahlen und Zielen zusenden? Gerne vereinbaren wir auch einen Anruf unter <tel_num>, um neue Strategien zu besprechen und die Verbesserung der digitalen Marketingleistung zu erkunden. Bitte teilen Sie uns einen passenden Zeitpunkt für den Anruf mit, wir helfen Ihnen gerne weiter.                                         1\n",
       "<name>, wir danken Ihnen für die Mitteilung bezüglich des möglichen Datenlecks beim Gesundheitsdienstleister. Wir verstehen die Schwere der Situation und möchten Sie über die bisher vom Team ergriffenen Maßnahmen informieren, inklusive Passwortzurücksetzungen und Systemscans. Könnten Sie uns bitte weitere Details zu den veralteten Software-Sicherheitslücken und den aktuellen Stand der Untersuchung mitteilen? Außerdem lassen Sie uns bitte wissen, ob der <acc_num>-Inhaber bestimmte Schritte unternehmen muss, um den Schutz zu erhöhen. Falls erforderlich, vereinbaren Sie gern einen Anruf unter <tel_num>, um die Angelegenheit zu besprechen und eventuelle Fragen zu klären.    1\n",
       "We have received an email regarding the breach attempt targeting the healthcare data security system. This issue has been assigned a high priority. Please provide any error messages received and details of your update attempts so we can assist further. Kindly provide the necessary information to escalate this to the security team. It would be convenient if we could call at <tel_num> to discuss and arrange a suitable time for the security team to investigate and resolve the issue.                                                                                                                                                                                                   1\n",
       "This is to confirm receipt of your report concerning the SaaS platform's performance issues. We understand that despite efforts like server restarts, code patches, and load balancing adjustments, the intermittent slowdowns and crashes continue. We are ready to assist in diagnosing the root cause and developing a solution. To better understand the problem, could you please share details about how often and at what times the crashes occur, as well as any error messages encountered?                                                                                                                                                                                                   1\n",
       "Dear [Name], thank you for your email regarding the project management SaaS features. Our platform offers various tools and functionalities, including workflow automation and reporting. We are able to integrate with several third-party apps and services. We would be happy to provide more detailed information and discuss your specific needs. Please call us at [Tel Num] to discuss and answer any questions you may have.                                                                                                                                                                                                                                                                   1\n",
       "Name: count, Length: 28580, dtype: int64"
      ]
     },
     "metadata": {},
     "output_type": "display_data"
    },
    {
     "name": "stdout",
     "output_type": "stream",
     "text": [
      "\n",
      "Value counts for type:\n",
      "\n"
     ]
    },
    {
     "data": {
      "text/plain": [
       "type\n",
       "Incident    11466\n",
       "Request      8187\n",
       "Problem      6012\n",
       "Change       2922\n",
       "Name: count, dtype: int64"
      ]
     },
     "metadata": {},
     "output_type": "display_data"
    },
    {
     "name": "stdout",
     "output_type": "stream",
     "text": [
      "\n",
      "Value counts for queue:\n",
      "\n"
     ]
    },
    {
     "data": {
      "text/plain": [
       "queue\n",
       "Technical Support                  8362\n",
       "Product Support                    5252\n",
       "Customer Service                   4268\n",
       "IT Support                         3433\n",
       "Billing and Payments               2788\n",
       "Returns and Exchanges              1437\n",
       "Service Outages and Maintenance    1148\n",
       "Sales and Pre-Sales                 918\n",
       "Human Resources                     576\n",
       "General Inquiry                     405\n",
       "Name: count, dtype: int64"
      ]
     },
     "metadata": {},
     "output_type": "display_data"
    },
    {
     "name": "stdout",
     "output_type": "stream",
     "text": [
      "\n",
      "Value counts for priority:\n",
      "\n"
     ]
    },
    {
     "data": {
      "text/plain": [
       "priority\n",
       "medium    11515\n",
       "high      11178\n",
       "low        5894\n",
       "Name: count, dtype: int64"
      ]
     },
     "metadata": {},
     "output_type": "display_data"
    },
    {
     "name": "stdout",
     "output_type": "stream",
     "text": [
      "\n",
      "Value counts for language:\n",
      "\n"
     ]
    },
    {
     "data": {
      "text/plain": [
       "language\n",
       "en    16338\n",
       "de    12249\n",
       "Name: count, dtype: int64"
      ]
     },
     "metadata": {},
     "output_type": "display_data"
    },
    {
     "name": "stdout",
     "output_type": "stream",
     "text": [
      "\n",
      "Value counts for tag_1:\n",
      "\n"
     ]
    },
    {
     "data": {
      "text/plain": [
       "tag_1\n",
       "Security                                                            5880\n",
       "Bug                                                                 5337\n",
       "Feedback                                                            3557\n",
       "Feature                                                             3081\n",
       "Performance                                                         3065\n",
       "                                                                    ... \n",
       "UI                                                                     1\n",
       "Performance,Outage,Disruption,Recovery,Marketing,Agentur,Analyse       1\n",
       "Security,IT,Tech Support                                               1\n",
       "User Interface                                                         1\n",
       "Warranty                                                               1\n",
       "Name: count, Length: 116, dtype: int64"
      ]
     },
     "metadata": {},
     "output_type": "display_data"
    },
    {
     "name": "stdout",
     "output_type": "stream",
     "text": [
      "\n",
      "Value counts for tag_2:\n",
      "\n"
     ]
    },
    {
     "data": {
      "text/plain": [
       "tag_2\n",
       "Performance               5903\n",
       "IT                        2697\n",
       "Documentation             1970\n",
       "Disruption                1850\n",
       "Sales                     1516\n",
       "                          ... \n",
       "Digital Transformation       1\n",
       "Admin                        1\n",
       "Business Information         1\n",
       "Solution                     1\n",
       "Technical                    1\n",
       "Name: count, Length: 256, dtype: int64"
      ]
     },
     "metadata": {},
     "output_type": "display_data"
    },
    {
     "name": "stdout",
     "output_type": "stream",
     "text": [
      "\n",
      "Value counts for tag_3:\n",
      "\n"
     ]
    },
    {
     "data": {
      "text/plain": [
       "tag_3\n",
       "IT                     6121\n",
       "Tech Support           2635\n",
       "Performance            2611\n",
       "Disruption             1877\n",
       "Documentation          1610\n",
       "                       ... \n",
       "Cisco IOS                 1\n",
       "Integration Problem       1\n",
       "Utility                   1\n",
       "Targeting                 1\n",
       "Warranty                  1\n",
       "Name: count, Length: 392, dtype: int64"
      ]
     },
     "metadata": {},
     "output_type": "display_data"
    },
    {
     "name": "stdout",
     "output_type": "stream",
     "text": [
      "\n",
      "Value counts for tag_4:\n",
      "\n"
     ]
    },
    {
     "data": {
      "text/plain": [
       "tag_4\n",
       "Tech Support         6568\n",
       "IT                   4809\n",
       "Documentation        1303\n",
       "Performance          1244\n",
       "Disruption           1242\n",
       "                     ... \n",
       "Promotional Offer       1\n",
       "Campaign Analysis       1\n",
       "System Slowness         1\n",
       "Reputation              1\n",
       "HR                      1\n",
       "Name: count, Length: 554, dtype: int64"
      ]
     },
     "metadata": {},
     "output_type": "display_data"
    },
    {
     "name": "stdout",
     "output_type": "stream",
     "text": [
      "\n",
      "Value counts for tag_5:\n",
      "\n"
     ]
    },
    {
     "data": {
      "text/plain": [
       "tag_5\n",
       "Tech Support           4617\n",
       "IT                     1932\n",
       "Recovery                668\n",
       "Documentation           557\n",
       "Feedback                481\n",
       "                       ... \n",
       "System Optimization       1\n",
       "Audience Mismatch         1\n",
       "Advertising Budget        1\n",
       "Downtime                  1\n",
       "Replacement               1\n",
       "Name: count, Length: 602, dtype: int64"
      ]
     },
     "metadata": {},
     "output_type": "display_data"
    },
    {
     "name": "stdout",
     "output_type": "stream",
     "text": [
      "\n",
      "Value counts for tag_6:\n",
      "\n"
     ]
    },
    {
     "data": {
      "text/plain": [
       "tag_6\n",
       "Tech Support         1847\n",
       "IT                    435\n",
       "Support               132\n",
       "Recovery              129\n",
       "Documentation         120\n",
       "                     ... \n",
       "Visuals                 1\n",
       "Third-party             1\n",
       "Security Practice       1\n",
       "Guide                   1\n",
       "HR                      1\n",
       "Name: count, Length: 575, dtype: int64"
      ]
     },
     "metadata": {},
     "output_type": "display_data"
    },
    {
     "name": "stdout",
     "output_type": "stream",
     "text": [
      "\n",
      "Value counts for tag_7:\n",
      "\n"
     ]
    },
    {
     "data": {
      "text/plain": [
       "tag_7\n",
       "Tech Support        391\n",
       "Support              80\n",
       "IT                   77\n",
       "Integration          32\n",
       "Troubleshooting      26\n",
       "                   ... \n",
       "Problem-Solving       1\n",
       "ThreatPrevention      1\n",
       "Financial Data        1\n",
       "Urgency               1\n",
       "Employee              1\n",
       "Name: count, Length: 427, dtype: int64"
      ]
     },
     "metadata": {},
     "output_type": "display_data"
    },
    {
     "name": "stdout",
     "output_type": "stream",
     "text": [
      "\n",
      "Value counts for tag_8:\n",
      "\n"
     ]
    },
    {
     "data": {
      "text/plain": [
       "tag_8\n",
       "Tech Support               77\n",
       "Support                    36\n",
       "Assistance                 15\n",
       "IT                         15\n",
       "Guidance                   13\n",
       "                           ..\n",
       "Review                      1\n",
       "Influencer Partnerships     1\n",
       "Success Story               1\n",
       "Dashboard                   1\n",
       "Training                    1\n",
       "Name: count, Length: 224, dtype: int64"
      ]
     },
     "metadata": {},
     "output_type": "display_data"
    }
   ],
   "source": [
    "categorical_columns = df.select_dtypes(include=['object']).columns\n",
    "for col in categorical_columns:\n",
    "    print(f\"\\nValue counts for {col}:\\n\")\n",
    "    display(df[col].value_counts())\n"
   ]
  }
 ],
 "metadata": {
  "kernelspec": {
   "display_name": "Python 3",
   "language": "python",
   "name": "python3"
  },
  "language_info": {
   "codemirror_mode": {
    "name": "ipython",
    "version": 3
   },
   "file_extension": ".py",
   "mimetype": "text/x-python",
   "name": "python",
   "nbconvert_exporter": "python",
   "pygments_lexer": "ipython3",
   "version": "3.12.0"
  }
 },
 "nbformat": 4,
 "nbformat_minor": 5
}
