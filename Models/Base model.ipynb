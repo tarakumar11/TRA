{
 "cells": [
  {
   "cell_type": "code",
   "execution_count": 1,
   "id": "8a89f75c",
   "metadata": {},
   "outputs": [],
   "source": [
    "import os\n",
    "import pandas as pd\n",
    "import nltk\n",
    "from nltk.tokenize import word_tokenize\n",
    "from nltk.corpus import stopwords"
   ]
  },
  {
   "cell_type": "code",
   "execution_count": 4,
   "id": "6c3046aa",
   "metadata": {},
   "outputs": [
    {
     "name": "stderr",
     "output_type": "stream",
     "text": [
      "[nltk_data] Downloading package punkt to\n",
      "[nltk_data]     C:\\Users\\Tharani\\AppData\\Roaming\\nltk_data...\n",
      "[nltk_data]   Package punkt is already up-to-date!\n",
      "[nltk_data] Downloading package stopwords to\n",
      "[nltk_data]     C:\\Users\\Tharani\\AppData\\Roaming\\nltk_data...\n",
      "[nltk_data]   Package stopwords is already up-to-date!\n"
     ]
    },
    {
     "data": {
      "text/plain": [
       "True"
      ]
     },
     "execution_count": 4,
     "metadata": {},
     "output_type": "execute_result"
    }
   ],
   "source": [
    "nltk.download(\"punkt\")\n",
    "nltk.download(\"stopwords\")"
   ]
  },
  {
   "cell_type": "code",
   "execution_count": 6,
   "id": "96c49f2e",
   "metadata": {},
   "outputs": [
    {
     "name": "stdout",
     "output_type": "stream",
     "text": [
      "                                                 subject          category  \\\n",
      "1                                     Account Disruption                     \n",
      "2      Query About Smart Home System Integration Feat...                     \n",
      "3                      Inquiry Regarding Invoice Details  Customer Support   \n",
      "4      Question About Marketing Agency Software Compa...  Customer Support   \n",
      "5                                          Feature Query  Customer Support   \n",
      "...                                                  ...               ...   \n",
      "28578                    Problem with Billing Adjustment  Customer Support   \n",
      "28580  Urgent: Incident Involving Data Breach in Medi...                     \n",
      "28582       Performance Problem with Data Analytics Tool                     \n",
      "28585  Update Request for SaaS Platform Integration F...  Customer Support   \n",
      "28586          Inquiry About Project Management Features                     \n",
      "\n",
      "                subcategory  \n",
      "1                            \n",
      "2                            \n",
      "3      Billing and Payments  \n",
      "4           Product Support  \n",
      "5           Product Support  \n",
      "...                     ...  \n",
      "28578  Billing and Payments  \n",
      "28580                        \n",
      "28582                        \n",
      "28585       Product Support  \n",
      "28586                        \n",
      "\n",
      "[13731 rows x 3 columns]\n"
     ]
    }
   ],
   "source": [
    "# Base model for subject \n",
    "stop_words = set(stopwords.words(\"english\"))\n",
    "\n",
    "file_path = os.path.abspath(\"Data/aa_dataset-tickets-multi-lang-5-2-50-version.csv\")\n",
    "\n",
    "filtered_df = pd.read_csv(file_path)\n",
    "\n",
    "filtered_df = filtered_df[filtered_df[\"language\"] == \"en\"]\n",
    "\n",
    "filtered_df = filtered_df.dropna(subset=[\"subject\"])\n",
    "\n",
    "\n",
    "def preprocess(text):\n",
    "    tokens = word_tokenize(text.lower())\n",
    "    tokens = [word for word in tokens if word.isalnum() and word not in stop_words]\n",
    "    return tokens\n",
    "\n",
    "filtered_df[\"processed_subject\"] = filtered_df[\"subject\"].apply(preprocess)\n",
    "\n",
    "keyword_mapping = {\n",
    "    \"Technical Support\": [\"error\", \"issue\", \"bug\", \"troubleshoot\"],\n",
    "    \"Product Support\": [\"feature\", \"update\", \"compatibility\"],\n",
    "    \"Returns and Exchanges\": [\"return\", \"exchange\", \"refund\"],\n",
    "    \"Billing and Payments\": [\"invoice\", \"payment\", \"billing\", \"charge\"],\n",
    "    \"Sales and Pre-Sales\": [\"pricing\", \"quote\", \"purchase\", \"buy\"],\n",
    "    \"General Inquiry\": [\"question\", \"information\", \"ask\"],\n",
    "    \"IT Support\": [\"server\", \"network\", \"login\", \"access\"],\n",
    "    \"Service Outages and Maintenance\": [\"down\", \"maintenance\", \"outage\"],\n",
    "    \"Human Resources\": [\"job\", \"application\", \"vacancy\"],\n",
    "    \"Customer Service\": [\"help\", \"support\", \"contact\"]\n",
    "}\n",
    "\n",
    "def categorize_ticket(tokens):\n",
    "    for category, keywords in keyword_mapping.items():\n",
    "        if any(word in tokens for word in keywords):\n",
    "            return category\n",
    "    return \" \"\n",
    "\n",
    "\n",
    "filtered_df[\"subcategory\"] = filtered_df[\"processed_subject\"].apply(categorize_ticket)\n",
    "\n",
    "category_mapping = {\n",
    "    \"Customer Support\": [\"Technical Support\", \"Product Support\", \"Returns and Exchanges\", \n",
    "                         \"Billing and Payments\", \"Sales and Pre-Sales\", \"General Inquiry\"],\n",
    "    \"IT & Infrastructure\": [\"IT Support\", \"Service Outages and Maintenance\"],\n",
    "    \"Internal Operations\": [\"Human Resources\", \"Customer Service\"]\n",
    "}\n",
    "\n",
    "def get_category(subcategory):\n",
    "    for category, subcategories in category_mapping.items():\n",
    "        if subcategory in subcategories:\n",
    "            return category\n",
    "    return \" \"\n",
    "\n",
    "filtered_df[\"category\"] = filtered_df[\"subcategory\"].apply(get_category)\n",
    "print(filtered_df[[\"subject\", \"category\", \"subcategory\"]])\n"
   ]
  },
  {
   "cell_type": "code",
   "execution_count": 8,
   "id": "362626a1",
   "metadata": {},
   "outputs": [
    {
     "name": "stdout",
     "output_type": "stream",
     "text": [
      "Accuracy: 0.00%\n"
     ]
    }
   ],
   "source": [
    "from sklearn.metrics import accuracy_score\n",
    "\n",
    "accuracy = accuracy_score(filtered_df[\"queue\"], filtered_df[\"category\"])\n",
    "print(f\"Accuracy: {accuracy:.2%}\")"
   ]
  },
  {
   "cell_type": "code",
   "execution_count": null,
   "id": "f4581f0c",
   "metadata": {},
   "outputs": [
    {
     "name": "stdout",
     "output_type": "stream",
     "text": [
      "\n",
      "Ticket Routing with Categories & Subcategories:\n",
      "                                                    body             category  \\\n",
      "1      Dear Customer Support Team,\\n\\nI am writing to...     Customer Support   \n",
      "2      Dear Customer Support Team,\\n\\nI hope this mes...     Customer Support   \n",
      "3      Dear Customer Support Team,\\n\\nI hope this mes...     Customer Support   \n",
      "4      Dear Support Team,\\n\\nI hope this message reac...     Customer Support   \n",
      "5      Dear Customer Support,\\n\\nI hope this message ...  Internal Operations   \n",
      "...                                                  ...                  ...   \n",
      "28578  An unexpected billing discrepancy has been not...     Customer Support   \n",
      "28580  A data breach has occurred, which might be rel...                        \n",
      "28582  The data analytics tool experiences sluggish p...                        \n",
      "28585  Requesting an update on the integration featur...     Customer Support   \n",
      "28586  Looking for detailed information on the projec...     Customer Support   \n",
      "\n",
      "                subcategory  \n",
      "1         Technical Support  \n",
      "2           Product Support  \n",
      "3      Billing and Payments  \n",
      "4           Product Support  \n",
      "5          Customer Service  \n",
      "...                     ...  \n",
      "28578       Product Support  \n",
      "28580                        \n",
      "28582                        \n",
      "28585       Product Support  \n",
      "28586       General Inquiry  \n",
      "\n",
      "[16338 rows x 3 columns]\n"
     ]
    }
   ],
   "source": [
    "# Base model for subject \n",
    "stop_words = set(stopwords.words(\"english\"))\n",
    "\n",
    "file_path = os.path.abspath(\"Data/aa_dataset-tickets-multi-lang-5-2-50-version.csv\")\n",
    "\n",
    "filtered_df = pd.read_csv(file_path)\n",
    "\n",
    "filtered_df = filtered_df[filtered_df[\"language\"] == \"en\"]\n",
    "\n",
    "filtered_df = filtered_df.dropna(subset=[\"body\"])\n",
    "\n",
    "def preprocess(text):\n",
    "    tokens = word_tokenize(text.lower())\n",
    "    tokens = [word for word in tokens if word.isalnum() and word not in stop_words]\n",
    "    return tokens\n",
    "\n",
    "filtered_df[\"processed_body\"] = filtered_df[\"body\"].apply(preprocess)\n",
    "\n",
    "keyword_mapping = {\n",
    "    \"Technical Support\": [\"error\", \"issue\", \"bug\", \"troubleshoot\"],\n",
    "    \"Product Support\": [\"feature\", \"update\", \"compatibility\"],\n",
    "    \"Returns and Exchanges\": [\"return\", \"exchange\", \"refund\"],\n",
    "    \"Billing and Payments\": [\"invoice\", \"payment\", \"billing\", \"charge\"],\n",
    "    \"Sales and Pre-Sales\": [\"pricing\", \"quote\", \"purchase\", \"buy\"],\n",
    "    \"General Inquiry\": [\"question\", \"information\", \"ask\"],\n",
    "    \"IT Support\": [\"server\", \"network\", \"login\", \"access\"],\n",
    "    \"Service Outages and Maintenance\": [\"down\", \"maintenance\", \"outage\"],\n",
    "    \"Human Resources\": [\"job\", \"application\", \"vacancy\"],\n",
    "    \"Customer Service\": [\"help\", \"support\", \"contact\"]\n",
    "}\n",
    "\n",
    "def categorize_ticket(tokens):\n",
    "    for category, keywords in keyword_mapping.items():\n",
    "        if any(word in tokens for word in keywords):\n",
    "            return category\n",
    "    return \" \"\n",
    "\n",
    "filtered_df[\"subcategory\"] = filtered_df[\"processed_body\"].apply(categorize_ticket)\n",
    "\n",
    "category_mapping = {\n",
    "    \"Customer Support\": [\"Technical Support\", \"Product Support\", \"Returns and Exchanges\", \n",
    "                         \"Billing and Payments\", \"Sales and Pre-Sales\", \"General Inquiry\"],\n",
    "    \"IT & Infrastructure\": [\"IT Support\", \"Service Outages and Maintenance\"],\n",
    "    \"Internal Operations\": [\"Human Resources\", \"Customer Service\"]\n",
    "}\n",
    "\n",
    "def get_category(subcategory):\n",
    "    for category, subcategories in category_mapping.items():\n",
    "        if subcategory in subcategories:\n",
    "            return category\n",
    "    return \" \"\n",
    "\n",
    "filtered_df[\"category\"] = filtered_df[\"subcategory\"].apply(get_category)\n",
    "\n",
    "print(filtered_df[[\"body\", \"category\", \"subcategory\"]])\n"
   ]
  },
  {
   "cell_type": "code",
   "execution_count": null,
   "id": "9b1d595a",
   "metadata": {},
   "outputs": [],
   "source": [
    "\n",
    "# Sample DataFrame with subjects\n",
    "filtered_df = pd.DataFrame({'subject': [\"Technical issue with my laptop\", \n",
    "                                        \"Billing problem for last month's subscription\", \n",
    "                                        \"Question about product warranty\"]})\n",
    "\n",
    "# Preprocessing function\n",
    "def preprocess(text):\n",
    "    tokens = word_tokenize(text.lower())  \n",
    "    tokens = [word for word in tokens if word.isalnum() and word not in stop_words]  \n",
    "    return tokens\n",
    "\n",
    "# Apply preprocessing\n",
    "filtered_df['processed_subject'] = filtered_df['subject'].apply(preprocess)\n",
    "\n",
    "# Ensure processed_subject contains lists\n",
    "dictionary = corpora.Dictionary(filtered_df['processed_subject'])\n",
    "corpus = [dictionary.doc2bow(text) for text in filtered_df['processed_subject']]\n",
    "\n",
    "# Train LDA Model\n",
    "lda_model = LdaModel(corpus, num_topics=3, id2word=dictionary, passes=10)\n",
    "\n",
    "# Display Topics\n",
    "print(\"\\nIdentified Topics:\")\n",
    "for idx, topic in lda_model.show_topics(formatted=True):\n",
    "    print(f\"Topic {idx}: {topic}\")\n"
   ]
  }
 ],
 "metadata": {
  "kernelspec": {
   "display_name": "Python 3",
   "language": "python",
   "name": "python3"
  },
  "language_info": {
   "codemirror_mode": {
    "name": "ipython",
    "version": 3
   },
   "file_extension": ".py",
   "mimetype": "text/x-python",
   "name": "python",
   "nbconvert_exporter": "python",
   "pygments_lexer": "ipython3",
   "version": "3.12.0"
  }
 },
 "nbformat": 4,
 "nbformat_minor": 5
}
